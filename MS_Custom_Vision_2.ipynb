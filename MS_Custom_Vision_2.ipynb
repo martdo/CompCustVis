{
 "cells": [
  {
   "cell_type": "markdown",
   "metadata": {},
   "source": [
    "# Intro"
   ]
  },
  {
   "cell_type": "markdown",
   "metadata": {},
   "source": [
    "DATASETS:\n",
    "\n",
    "https://www.kaggle.com/crawford/cat-dataset\n",
    "https://www.microsoft.com/en-us/download/details.aspx?id=54765\n",
    "https://github.com/Azure-Samples/cognitive-services-python-sdk-samples/tree/master/samples/vision/images\n",
    "https://lionbridge.ai/datasets/20-best-image-datasets-for-computer-vision/\n",
    "\n",
    "https://www.metamaven.com/chihuahua-vs-muffin-comparison-computer-vision-apis/\n",
    "https://github.com/ieee8023/deep-learning-datasets\n",
    "\n",
    "\n",
    "DOCU:\n",
    "https://docs.microsoft.com/pl-pl/python/api/azure-cognitiveservices-vision-customvision/azure.cognitiveservices.vision.customvision.training.custom_vision_training_client.customvisiontrainingclient?view=azure-python#create-project-name--description-none--domain-id-none--classification-type-none--target-export-platforms-none--custom-headers-none--raw-false----operation-config-\n",
    "\n",
    "\n",
    "https://www.microsoft.com/en-us/download/details.aspx?id=54765\n",
    "\n",
    "https://www.wintellect.com/microsoft-custom-vision-creating-an-image-classification-model/\n"
   ]
  },
  {
   "cell_type": "markdown",
   "metadata": {},
   "source": [
    "# Instal Custom Vision Python SDK"
   ]
  },
  {
   "cell_type": "code",
   "execution_count": null,
   "metadata": {},
   "outputs": [],
   "source": [
    "!pip install azure-cognitiveservices-vision-customvision"
   ]
  },
  {
   "cell_type": "code",
   "execution_count": null,
   "metadata": {},
   "outputs": [],
   "source": [
    "import time\n",
    "from azure.cognitiveservices.vision.customvision.training import CustomVisionTrainingClient\n",
    "from azure.cognitiveservices.vision.customvision.training.models import ImageFileCreateEntry\n",
    "from azure.cognitiveservices.vision.customvision.prediction import CustomVisionPredictionClient\n",
    "\n",
    "%matplotlib inline\n",
    "import matplotlib.pyplot as plt\n",
    "import matplotlib.image as mpimg"
   ]
  },
  {
   "cell_type": "markdown",
   "metadata": {},
   "source": [
    "# Set up Azure Cognitice Services credentials"
   ]
  },
  {
   "cell_type": "code",
   "execution_count": null,
   "metadata": {},
   "outputs": [],
   "source": [
    "# from azure.cognitiveservices.vision.customvision.training import CustomVisionTrainingClient\n",
    "# from azure.cognitiveservices.vision.customvision.training.models import ImageFileCreateEntry\n",
    "\n",
    "ENDPOINT = \"https://marta1-prediction.cognitiveservices.azure.com/\"\n",
    "\n",
    "# Replace with a valid key\n",
    "training_key = \"0e5d838738c54d81b57fb5f38c0c7ae5\"\n",
    "prediction_key = \"a2bfb905d489428cb5f53fcdcb1df96d\"\n",
    "prediction_resource_id = \"/subscriptions/1ec71957-f4e7-4456-8e8f-2d33aa1d08eb/resourceGroups/DockerIntroductionRG/providers/Microsoft.CognitiveServices/accounts/Marta1-Prediction\"\n",
    "\n",
    "publish_iteration_name = \"classifyModel\"\n",
    "\n",
    "trainer = CustomVisionTrainingClient(training_key, endpoint=ENDPOINT)\n",
    "\n",
    "# Create a new project\n",
    "print (\"Creating project...\")\n",
    "project = trainer.create_project(\"Feline Emotions\")\n",
    "\n",
    "# Possible parameters for creating method create_project\n",
    "# https://docs.microsoft.com/pl-pl/python/api/azure-cognitiveservices-vision-customvision/azure.cognitiveservices.vision.customvision.training.custom_vision_training_client.customvisiontrainingclient?view=azure-python#create-project-name--description-none--domain-id-none--classification-type-none--target-export-platforms-none--custom-headers-none--raw-false----operation-config-"
   ]
  },
  {
   "cell_type": "markdown",
   "metadata": {},
   "source": [
    "# Create Tags (Labels)"
   ]
  },
  {
   "cell_type": "code",
   "execution_count": null,
   "metadata": {},
   "outputs": [],
   "source": [
    "# Make two tags in the new project\n",
    "angry_tag = trainer.create_tag(project.id, \"Angry\")\n",
    "happy_tag = trainer.create_tag(project.id, \"Happy\")"
   ]
  },
  {
   "cell_type": "markdown",
   "metadata": {},
   "source": [
    "# Upload images for training"
   ]
  },
  {
   "cell_type": "markdown",
   "metadata": {},
   "source": [
    "## Upload Angry Cats (40 images)"
   ]
  },
  {
   "cell_type": "code",
   "execution_count": null,
   "metadata": {},
   "outputs": [],
   "source": [
    "### This code uploads each image with its corresponding tag. You can upload up to 64 images in a single batch.\n",
    "\n",
    "base_image_url = \"/Users/doma022/Desktop/AI_Workshop/CATS/\"\n",
    "\n",
    "print(\"Adding images...\")\n",
    "\n",
    "image_list = []\n",
    "\n",
    "for image_num in range(1, 40):\n",
    "    file_name = \"angry_{}.jpg\".format(image_num)\n",
    "    with open(base_image_url + \"Angry_Cat/\" + file_name, \"rb\") as image_contents:\n",
    "        image_list.append(ImageFileCreateEntry(name=file_name,\n",
    "                                               contents=image_contents.read(),\n",
    "                                               tag_ids=[angry_tag.id]))\n",
    "\n",
    "upload_result = trainer.create_images_from_files(project.id, images=image_list)\n",
    "\n",
    "if not upload_result.is_batch_successful:\n",
    "    print(\"Image batch upload failed.\")\n",
    "    for image in upload_result.images:\n",
    "        print(\"Image status: \", image.status)\n",
    "    exit(-1)"
   ]
  },
  {
   "cell_type": "markdown",
   "metadata": {},
   "source": [
    "## Upload Happy Cats (40 images)"
   ]
  },
  {
   "cell_type": "code",
   "execution_count": null,
   "metadata": {},
   "outputs": [],
   "source": [
    "### This code uploads each image with its corresponding tag. You can upload up to 64 images in a single batch.\n",
    "\n",
    "base_image_url = \"/Users/doma022/Desktop/AI_Workshop/CATS/\"\n",
    "\n",
    "print(\"Adding images...\")\n",
    "\n",
    "image_list = []\n",
    "\n",
    "\n",
    "for image_num in range(1, 40):\n",
    "    file_name = \"happy_{}.jpg\".format(image_num)\n",
    "    with open(base_image_url + \"Happy_Cat/\" + file_name, \"rb\") as image_contents:\n",
    "        image_list.append(ImageFileCreateEntry(name=file_name,\n",
    "                                               contents=image_contents.read(),\n",
    "                                               tag_ids=[happy_tag.id]))\n",
    "\n",
    "upload_result = trainer.create_images_from_files(project.id, images=image_list)\n",
    "\n",
    "if not upload_result.is_batch_successful:\n",
    "    print(\"Image batch upload failed.\")\n",
    "    for image in upload_result.images:\n",
    "        print(\"Image status: \", image.status)\n",
    "    exit(-1)"
   ]
  },
  {
   "cell_type": "markdown",
   "metadata": {},
   "source": [
    "# Train the classifier and publish"
   ]
  },
  {
   "cell_type": "code",
   "execution_count": null,
   "metadata": {},
   "outputs": [],
   "source": [
    "#import time\n",
    "\n",
    "print (\"Training...\")\n",
    "iteration = trainer.train_project(project.id)\n",
    "\n",
    "while (iteration.status != \"Completed\"):\n",
    "    iteration = trainer.get_iteration(project.id, iteration.id)\n",
    "    \n",
    "    print (\"Training status: \" + iteration.status)\n",
    "    time.sleep(1)\n",
    "\n",
    "# The iteration is now trained. Publish it to the project endpoint\n",
    "trainer.publish_iteration(project.id, iteration.id, publish_iteration_name, prediction_resource_id)\n",
    "print (\"Done!\")"
   ]
  },
  {
   "cell_type": "markdown",
   "metadata": {},
   "source": [
    "# Get performance measures"
   ]
  },
  {
   "cell_type": "code",
   "execution_count": null,
   "metadata": {},
   "outputs": [],
   "source": [
    "#https://docs.microsoft.com/bs-latn-ba/rest/api/cognitiveservices/customvisiontraining/getiterationperformance/getiterationperformance\n",
    "\n",
    "# Precision = TP / (TP + FP)\n",
    "# Recall (sensitivity) = TP / (TP + TN)\n",
    "\n",
    "performance = trainer.get_iteration_performance(project.id, iteration.id)\n",
    "print(\"Overall Precision: {0:<10}\".format(performance.precision))\n",
    "print(\"Overall Recall:    {0:<10}\".format(performance.recall))"
   ]
  },
  {
   "cell_type": "markdown",
   "metadata": {},
   "source": [
    "# Get and use the published iteration on the prediction endpoint"
   ]
  },
  {
   "cell_type": "code",
   "execution_count": null,
   "metadata": {
    "scrolled": false
   },
   "outputs": [],
   "source": [
    "#from azure.cognitiveservices.vision.customvision.prediction import CustomVisionPredictionClient\n",
    "\n",
    "# %matplotlib inline\n",
    "# import matplotlib.pyplot as plt\n",
    "# import matplotlib.image as mpimg\n",
    "\n",
    "\n",
    "# Now there is a trained endpoint that can be used to make a prediction\n",
    "predictor = CustomVisionPredictionClient(prediction_key, endpoint=ENDPOINT)\n",
    "\n",
    "\n",
    "for image_num in range(1, 15):\n",
    "    file_name = base_image_url + \"TEST/\" + \"test_{}.jpg\".format(image_num)\n",
    "\n",
    "    with open(file_name, \"rb\") as image_contents:\n",
    "        results = predictor.classify_image(\n",
    "            project.id, publish_iteration_name, image_contents.read())\n",
    "\n",
    "        print(\"==============================================\")\n",
    "        \n",
    "        print(\"test_{}.jpg\".format(image_num))\n",
    "        # Display the results.\n",
    "        for prediction in results.predictions:\n",
    "            print(\"\\t\" + prediction.tag_name +\n",
    "                  \": {0:.2f}%\".format(prediction.probability * 100))\n",
    "            \n",
    "            \n",
    "        \n",
    "        img=mpimg.imread(file_name)\n",
    "        imgplot = plt.imshow(img)\n",
    "        plt.show()\n",
    "        "
   ]
  }
 ],
 "metadata": {
  "kernelspec": {
   "display_name": "Python 3",
   "language": "python",
   "name": "python3"
  },
  "language_info": {
   "codemirror_mode": {
    "name": "ipython",
    "version": 3
   },
   "file_extension": ".py",
   "mimetype": "text/x-python",
   "name": "python",
   "nbconvert_exporter": "python",
   "pygments_lexer": "ipython3",
   "version": "3.7.1"
  },
  "toc": {
   "base_numbering": 1,
   "nav_menu": {},
   "number_sections": true,
   "sideBar": true,
   "skip_h1_title": false,
   "title_cell": "Table of Contents",
   "title_sidebar": "Contents",
   "toc_cell": false,
   "toc_position": {
    "height": "calc(100% - 180px)",
    "left": "10px",
    "top": "150px",
    "width": "336px"
   },
   "toc_section_display": true,
   "toc_window_display": true
  }
 },
 "nbformat": 4,
 "nbformat_minor": 2
}
